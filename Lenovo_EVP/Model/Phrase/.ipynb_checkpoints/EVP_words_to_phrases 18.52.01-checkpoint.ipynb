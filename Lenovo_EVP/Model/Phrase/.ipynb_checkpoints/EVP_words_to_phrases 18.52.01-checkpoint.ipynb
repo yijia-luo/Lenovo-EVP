{
 "cells": [
  {
   "cell_type": "code",
   "execution_count": 1,
   "metadata": {},
   "outputs": [],
   "source": [
    "import pandas as pd\n",
    "import numpy as np\n",
    "import os\n",
    "import nltk\n",
    "import string\n",
    "from wordcloud import WordCloud, STOPWORDS"
   ]
  },
  {
   "cell_type": "code",
   "execution_count": 2,
   "metadata": {},
   "outputs": [],
   "source": [
    "def filter_word(word, pro, con): \n",
    "    pro_list=list(filter(lambda x: word in x, pro))\n",
    "    con_list=list(filter(lambda x: word in x, con))\n",
    "    col_pro = word+'_pro'\n",
    "    col_con = word+'_con'\n",
    "    df1=pd.DataFrame(pro_list,columns=[col_pro])\n",
    "    df2=pd.DataFrame(con_list,columns=[col_con])\n",
    "    result = pd.concat([df1,df2],axis=1)\n",
    "    return result"
   ]
  },
  {
   "cell_type": "code",
   "execution_count": 3,
   "metadata": {},
   "outputs": [],
   "source": [
    "def list_(word_list, pro, con):\n",
    "    return_df = pd.DataFrame()\n",
    "    for word in word_list:\n",
    "        return_df=pd.concat([return_df,filter_word(word, pro, con)],axis=1)\n",
    "    return return_df"
   ]
  },
  {
   "cell_type": "code",
   "execution_count": 4,
   "metadata": {},
   "outputs": [],
   "source": [
    "def final_csv(file_list, word_list):\n",
    "    for file in file_list:\n",
    "        df=pd.read_csv(file,index_col=0)\n",
    "        pro=[]; con=[]\n",
    "        for i in range(len(df['pro'])):\n",
    "            if type(df['pro'][i])==str:\n",
    "                pro.append(df['pro'][i].lower())\n",
    "        for i in range(len(df['con'])):\n",
    "            if type(df['con'][i])==str:\n",
    "                con.append(df['con'][i].lower())\n",
    "        result =list_(word_list, pro, con)\n",
    "        filename = os.path.splitext(file)[0]\n",
    "        filename = filename + 'compensation.csv'\n",
    "        result.to_csv(filename)\n"
   ]
  },
  {
   "cell_type": "code",
   "execution_count": 25,
   "metadata": {},
   "outputs": [],
   "source": [
    "file_list = ['Lenovo_phrase.csv']\n",
    "word_list = ['compensation', 'pay', 'salary', 'money', 'wage', 'promotion','bonus','fair']\n",
    "final_csv(file_list, word_list)"
   ]
  },
  {
   "cell_type": "code",
   "execution_count": 5,
   "metadata": {},
   "outputs": [],
   "source": [
    "file_list = ['Lenovo_phrase.csv']\n",
    "word_list = ['fair']\n",
    "final_csv(file_list, word_list)"
   ]
  },
  {
   "cell_type": "code",
   "execution_count": null,
   "metadata": {},
   "outputs": [],
   "source": []
  }
 ],
 "metadata": {
  "kernelspec": {
   "display_name": "Python 3",
   "language": "python",
   "name": "python3"
  },
  "language_info": {
   "codemirror_mode": {
    "name": "ipython",
    "version": 3
   },
   "file_extension": ".py",
   "mimetype": "text/x-python",
   "name": "python",
   "nbconvert_exporter": "python",
   "pygments_lexer": "ipython3",
   "version": "3.7.3"
  }
 },
 "nbformat": 4,
 "nbformat_minor": 2
}
